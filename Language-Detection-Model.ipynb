{
  "nbformat": 4,
  "nbformat_minor": 0,
  "metadata": {
    "colab": {
      "provenance": [],
      "gpuType": "V28"
    },
    "kernelspec": {
      "name": "python3",
      "display_name": "Python 3"
    },
    "language_info": {
      "name": "python"
    },
    "accelerator": "TPU"
  },
  "cells": [
    {
      "cell_type": "code",
      "execution_count": 1,
      "metadata": {
        "id": "2kqiVCjrbvvk"
      },
      "outputs": [],
      "source": [
        "import re\n",
        "import nltk\n",
        "import keras\n",
        "import numpy as np\n",
        "import pandas as pd\n",
        "import tensorflow as tf\n",
        "from keras import optimizers\n",
        "import matplotlib.pyplot as plt\n",
        "from nltk.corpus import stopwords\n",
        "from nltk.stem import WordNetLemmatizer\n",
        "from keras.layers import ReLU , Softmax\n",
        "from sklearn.model_selection import train_test_split\n",
        "from sklearn.feature_extraction.text import TfidfVectorizer\n",
        "from sklearn.preprocessing import OneHotEncoder , LabelEncoder\n",
        "from sklearn.metrics import classification_report , confusion_matrix , accuracy_score"
      ]
    },
    {
      "cell_type": "code",
      "source": [
        "dataset = pd.read_csv(\"Language_Detection.csv\")\n",
        "\n",
        "nltk.download('wordnet')\n",
        "nltk.download('stopwords')\n",
        "\n",
        "print(dataset.head())"
      ],
      "metadata": {
        "colab": {
          "base_uri": "https://localhost:8080/"
        },
        "id": "flTksiPdb_sm",
        "outputId": "15b10e2f-1cad-418d-90a7-266ba5d1272d"
      },
      "execution_count": 2,
      "outputs": [
        {
          "output_type": "stream",
          "name": "stdout",
          "text": [
            "                                                Text Language\n",
            "0  de spons behoort tot het geslacht haliclona en...    Dutch\n",
            "1   –  richard plantagenet campbell temple-nugent...    Dutch\n",
            "2   –  richard plantagenet temple-nugent-brydges-...    Dutch\n",
            "3   groot-kronig  bloem per steel de trompet is l...    Dutch\n",
            "4   poeticus meestal  bloem per steel bloemblaadj...    Dutch\n"
          ]
        },
        {
          "output_type": "stream",
          "name": "stderr",
          "text": [
            "[nltk_data] Downloading package wordnet to /root/nltk_data...\n",
            "[nltk_data] Downloading package stopwords to /root/nltk_data...\n",
            "[nltk_data]   Unzipping corpora/stopwords.zip.\n"
          ]
        }
      ]
    },
    {
      "cell_type": "code",
      "source": [
        "corpus = []\n",
        "lemmatizer = WordNetLemmatizer()\n",
        "\n",
        "for i in range(9996):\n",
        "    words = dataset[\"Text\"][i].split()\n",
        "    words = [lemmatizer.lemmatize(word) for word in words if word not in set(stopwords.words(dataset[\"Language\"][i].lower()))]\n",
        "    words = \" \".join(words)\n",
        "    corpus.append(words)"
      ],
      "metadata": {
        "id": "EJQSvf93cCi2"
      },
      "execution_count": 3,
      "outputs": []
    },
    {
      "cell_type": "code",
      "source": [
        "vectorizer = TfidfVectorizer()\n",
        "\n",
        "Y = dataset.iloc[: , 1]\n",
        "\n",
        "encoder = LabelEncoder()\n",
        "Y_Encoded = encoder.fit_transform(Y)\n",
        "Y = keras.utils.to_categorical(Y_Encoded , num_classes = 10)\n",
        "\n",
        "X = vectorizer.fit_transform(corpus)\n",
        "\n",
        "print(X.get_shape())\n",
        "print(encoder.classes_)"
      ],
      "metadata": {
        "id": "6E-VGUKmSjbk",
        "colab": {
          "base_uri": "https://localhost:8080/"
        },
        "outputId": "769a3d1e-72dd-4e04-f94f-3333fd14f360"
      },
      "execution_count": 4,
      "outputs": [
        {
          "output_type": "stream",
          "name": "stdout",
          "text": [
            "(9996, 108973)\n",
            "['Dutch' 'English' 'French' 'Indonesian' 'Portuguese' 'Romanian' 'Russian'\n",
            " 'Spanish' 'Swedish' 'Turkish']\n"
          ]
        }
      ]
    },
    {
      "cell_type": "code",
      "source": [
        "X_Train , X_Test , Y_Train , Y_Test = train_test_split(X , Y , test_size = 0.20 , random_state = 20)\n",
        "X_Train , X_Val , Y_Train , Y_Val = train_test_split(X_Train , Y_Train , test_size = 0.18 , random_state = 20)\n",
        "\n",
        "X_Val = X_Val.toarray()\n",
        "X_Test = X_Test.toarray()\n",
        "X_Train = X_Train.toarray()\n",
        "\n",
        "X_Val = X_Val.reshape((X_Val.shape[0] , X_Val.shape[1] , 1))\n",
        "X_Test = X_Test.reshape((X_Test.shape[0] , X_Test.shape[1] , 1))\n",
        "X_Train = X_Train.reshape((X_Train.shape[0], X_Train.shape[1], 1))\n",
        "\n",
        "print(X_Val.shape)\n",
        "print(X_Test.shape)\n",
        "print(X_Train.shape)"
      ],
      "metadata": {
        "id": "e02lfBhvS4NT",
        "colab": {
          "base_uri": "https://localhost:8080/"
        },
        "outputId": "9895dbae-c28e-4a7b-99a2-86f6de2b78ea"
      },
      "execution_count": 5,
      "outputs": [
        {
          "output_type": "stream",
          "name": "stdout",
          "text": [
            "(1440, 108973, 1)\n",
            "(2000, 108973, 1)\n",
            "(6556, 108973, 1)\n"
          ]
        }
      ]
    },
    {
      "cell_type": "code",
      "source": [
        "input_shape = (X_Train.shape[1] , X_Train.shape[2])\n",
        "\n",
        "models = keras.Sequential()\n",
        "\n",
        "models.add(keras.layers.Conv1D(filters = 20 , kernel_size = 6 , activation = ReLU() , strides = 2 , input_shape = input_shape))\n",
        "models.add(keras.layers.Flatten())\n",
        "models.add(keras.layers.Dense(units = 32 , activation = ReLU()))\n",
        "models.add(keras.layers.Dense(units = 64 , activation = ReLU()))\n",
        "models.add(keras.layers.Dense(units = 10 , activation = Softmax()))\n",
        "\n",
        "models.summary()\n",
        "\n",
        "models.compile(loss = \"categorical_crossentropy\" , optimizer = optimizers.Adam(amsgrad = True) , metrics = [\"accuracy\"])\n",
        "history = models.fit(X_Train , Y_Train , validation_data = (X_Val , Y_Val) , batch_size = 32 , epochs = 16)"
      ],
      "metadata": {
        "colab": {
          "base_uri": "https://localhost:8080/"
        },
        "id": "ytZxwMMhTKX9",
        "outputId": "1ea722d1-663f-4b52-e61b-d578998827e1"
      },
      "execution_count": 6,
      "outputs": [
        {
          "output_type": "stream",
          "name": "stdout",
          "text": [
            "Model: \"sequential\"\n",
            "_________________________________________________________________\n",
            " Layer (type)                Output Shape              Param #   \n",
            "=================================================================\n",
            " conv1d (Conv1D)             (None, 54484, 20)         140       \n",
            "                                                                 \n",
            " flatten (Flatten)           (None, 1089680)           0         \n",
            "                                                                 \n",
            " dense (Dense)               (None, 32)                34869792  \n",
            "                                                                 \n",
            " dense_1 (Dense)             (None, 64)                2112      \n",
            "                                                                 \n",
            " dense_2 (Dense)             (None, 10)                650       \n",
            "                                                                 \n",
            "=================================================================\n",
            "Total params: 34872694 (133.03 MB)\n",
            "Trainable params: 34872694 (133.03 MB)\n",
            "Non-trainable params: 0 (0.00 Byte)\n",
            "_________________________________________________________________\n",
            "Epoch 1/16\n",
            "205/205 [==============================] - 51s 246ms/step - loss: 1.4024 - accuracy: 0.6171 - val_loss: 0.1618 - val_accuracy: 0.9861\n",
            "Epoch 2/16\n",
            "205/205 [==============================] - 50s 242ms/step - loss: 0.0403 - accuracy: 0.9950 - val_loss: 0.0568 - val_accuracy: 0.9896\n",
            "Epoch 3/16\n",
            "205/205 [==============================] - 49s 241ms/step - loss: 0.0047 - accuracy: 0.9994 - val_loss: 0.0419 - val_accuracy: 0.9903\n",
            "Epoch 4/16\n",
            "205/205 [==============================] - 50s 244ms/step - loss: 0.0026 - accuracy: 0.9995 - val_loss: 0.0394 - val_accuracy: 0.9917\n",
            "Epoch 5/16\n",
            "205/205 [==============================] - 50s 244ms/step - loss: 0.0022 - accuracy: 0.9997 - val_loss: 0.0463 - val_accuracy: 0.9861\n",
            "Epoch 6/16\n",
            "205/205 [==============================] - 50s 242ms/step - loss: 0.0024 - accuracy: 0.9995 - val_loss: 0.0395 - val_accuracy: 0.9903\n",
            "Epoch 7/16\n",
            "205/205 [==============================] - 49s 239ms/step - loss: 0.0024 - accuracy: 0.9997 - val_loss: 0.0350 - val_accuracy: 0.9910\n",
            "Epoch 8/16\n",
            "205/205 [==============================] - 50s 243ms/step - loss: 0.0015 - accuracy: 0.9995 - val_loss: 0.0373 - val_accuracy: 0.9896\n",
            "Epoch 9/16\n",
            "205/205 [==============================] - 50s 242ms/step - loss: 0.0016 - accuracy: 0.9997 - val_loss: 0.0414 - val_accuracy: 0.9896\n",
            "Epoch 10/16\n",
            "205/205 [==============================] - 49s 240ms/step - loss: 0.0029 - accuracy: 0.9994 - val_loss: 0.0328 - val_accuracy: 0.9910\n",
            "Epoch 11/16\n",
            "205/205 [==============================] - 49s 239ms/step - loss: 0.0019 - accuracy: 0.9995 - val_loss: 0.0394 - val_accuracy: 0.9875\n",
            "Epoch 12/16\n",
            "205/205 [==============================] - 49s 239ms/step - loss: 0.0022 - accuracy: 0.9995 - val_loss: 0.0581 - val_accuracy: 0.9861\n",
            "Epoch 13/16\n",
            "205/205 [==============================] - 49s 240ms/step - loss: 0.0023 - accuracy: 0.9995 - val_loss: 0.0368 - val_accuracy: 0.9903\n",
            "Epoch 14/16\n",
            "205/205 [==============================] - 49s 241ms/step - loss: 0.0018 - accuracy: 0.9997 - val_loss: 0.0303 - val_accuracy: 0.9903\n",
            "Epoch 15/16\n",
            "205/205 [==============================] - 50s 244ms/step - loss: 0.0019 - accuracy: 0.9994 - val_loss: 0.0332 - val_accuracy: 0.9931\n",
            "Epoch 16/16\n",
            "205/205 [==============================] - 50s 244ms/step - loss: 0.0014 - accuracy: 0.9997 - val_loss: 0.0337 - val_accuracy: 0.9910\n"
          ]
        }
      ]
    },
    {
      "cell_type": "code",
      "source": [
        "models.save(\"Project_DL.h5\")"
      ],
      "metadata": {
        "id": "ilq1HKwvxubu",
        "colab": {
          "base_uri": "https://localhost:8080/"
        },
        "outputId": "2106cf62-792d-46ca-935e-549490ec8a02"
      },
      "execution_count": 7,
      "outputs": [
        {
          "output_type": "stream",
          "name": "stderr",
          "text": [
            "/usr/local/lib/python3.10/dist-packages/keras/src/engine/training.py:3103: UserWarning: You are saving your model as an HDF5 file via `model.save()`. This file format is considered legacy. We recommend using instead the native Keras format, e.g. `model.save('my_model.keras')`.\n",
            "  saving_api.save_model(\n"
          ]
        }
      ]
    },
    {
      "cell_type": "code",
      "source": [
        "plt.plot(history.history['loss'])\n",
        "plt.plot(history.history['val_loss'])\n",
        "\n",
        "plt.ylabel('Loss')\n",
        "plt.title('Model Loss')\n",
        "plt.xlabel('Number of Epochs')\n",
        "plt.legend(['Train' , 'Validation'] , loc = 'upper right')\n",
        "plt.show()\n",
        "\n",
        "print(\"\\n\")\n",
        "\n",
        "plt.plot(history.history['accuracy'])\n",
        "plt.plot(history.history['val_accuracy'])\n",
        "\n",
        "\n",
        "plt.ylabel('Accuracy')\n",
        "plt.title('Model Accuracy')\n",
        "plt.xlabel('Number of Epochs')\n",
        "plt.legend(['Train' , 'Validation'] , loc = 'upper right')\n",
        "plt.show()"
      ],
      "metadata": {
        "id": "k0v2SHFvsyL3",
        "colab": {
          "base_uri": "https://localhost:8080/",
          "height": 962
        },
        "outputId": "64ae89d1-a59d-4a84-b18d-d6602545f0af"
      },
      "execution_count": 8,
      "outputs": [
        {
          "output_type": "display_data",
          "data": {
            "text/plain": [
              "<Figure size 640x480 with 1 Axes>"
            ],
            "image/png": "[encoded data removed]"
          },
          "metadata": {}
        },
        {
          "output_type": "stream",
          "name": "stdout",
          "text": [
            "\n",
            "\n"
          ]
        },
        {
          "output_type": "display_data",
          "data": {
            "text/plain": [
              "<Figure size 640x480 with 1 Axes>"
            ],
            "image/png": "[encoded data removed]"
          },
          "metadata": {}
        }
      ]
    },
    {
      "cell_type": "code",
      "source": [
        "Y_Pred = models.predict(X_Test)\n",
        "Y_Test_Arg = np.argmax(Y_Test , axis = 1)\n",
        "Y_Pred_Classes = np.argmax(Y_Pred , axis = 1)\n",
        "print(\"Classification Report for Test Data : \" + \"\\n\")\n",
        "print(classification_report(Y_Test_Arg , Y_Pred_Classes))\n",
        "\n",
        "print(\"Test Accuracy : \" , accuracy_score(Y_Test_Arg , Y_Pred_Classes))"
      ],
      "metadata": {
        "id": "CoLssjmFx2-C",
        "colab": {
          "base_uri": "https://localhost:8080/"
        },
        "outputId": "78766e50-1a5f-49ac-c024-a2e0c05eccea"
      },
      "execution_count": 9,
      "outputs": [
        {
          "output_type": "stream",
          "name": "stdout",
          "text": [
            "63/63 [==============================] - 2s 37ms/step\n",
            "Classification Report for Test Data : \n",
            "\n",
            "              precision    recall  f1-score   support\n",
            "\n",
            "           0       1.00      1.00      1.00       209\n",
            "           1       0.98      0.99      0.99       190\n",
            "           2       0.99      0.98      0.99       200\n",
            "           3       0.97      1.00      0.98       208\n",
            "           4       0.97      0.98      0.98       198\n",
            "           5       1.00      0.98      0.99       198\n",
            "           6       1.00      0.99      0.99       200\n",
            "           7       0.99      0.96      0.98       187\n",
            "           8       0.99      1.00      0.99       199\n",
            "           9       1.00      1.00      1.00       211\n",
            "\n",
            "    accuracy                           0.99      2000\n",
            "   macro avg       0.99      0.99      0.99      2000\n",
            "weighted avg       0.99      0.99      0.99      2000\n",
            "\n",
            "Test Accuracy :  0.989\n"
          ]
        }
      ]
    },
    {
      "cell_type": "code",
      "source": [
        "print(\"Confusion Matrix for Test Data : \" + \"\\n\")\n",
        "print(confusion_matrix(Y_Test_Arg , Y_Pred_Classes))"
      ],
      "metadata": {
        "id": "So5g3i2Ts6Cm",
        "colab": {
          "base_uri": "https://localhost:8080/"
        },
        "outputId": "aa7d795c-81cb-47e8-e0a8-8a3b9b7d1397"
      },
      "execution_count": 10,
      "outputs": [
        {
          "output_type": "stream",
          "name": "stdout",
          "text": [
            "Confusion Matrix for Test Data : \n",
            "\n",
            "[[208   0   0   1   0   0   0   0   0   0]\n",
            " [  0 189   0   1   0   0   0   0   0   0]\n",
            " [  1   0 197   1   0   0   0   1   0   0]\n",
            " [  0   0   0 207   1   0   0   0   0   0]\n",
            " [  0   0   0   1 195   0   0   1   1   0]\n",
            " [  0   2   0   1   0 195   0   0   0   0]\n",
            " [  0   0   0   1   0   0 198   0   1   0]\n",
            " [  0   1   1   0   5   0   0 180   0   0]\n",
            " [  0   0   0   0   0   0   0   0 199   0]\n",
            " [  0   1   0   0   0   0   0   0   0 210]]\n"
          ]
        }
      ]
    },
    {
      "cell_type": "code",
      "source": [
        "sent = \"buna mă numesc bhavya și sunt aici să-ți fac un cadou de ziua ta\"   # Any sentence in mentioned languages after removing all punctuations and capital letters\n",
        "\n",
        "sent = sent.strip()\n",
        "sent = sent.lower()\n",
        "\n",
        "words_new = sent.split()\n",
        "words_new = [lemmatizer.lemmatize(word) for word in words_new if word not in set(stopwords.words())]\n",
        "words_new = \" \".join(words_new)\n",
        "\n",
        "predict_word = vectorizer.transform([words_new])\n",
        "\n",
        "predict_word = predict_word.toarray()\n",
        "predict_word = predict_word.reshape((predict_word.shape[0] , predict_word.shape[1] , 1))\n",
        "print(predict_word.shape)\n",
        "\n",
        "predicted = models.predict(predict_word)\n",
        "\n",
        "class_max = predicted.max()\n",
        "index = list(predicted[0]).index(class_max)\n",
        "\n",
        "print(\"The predicted language is : \" , (encoder.classes_)[index])"
      ],
      "metadata": {
        "id": "GgXuC-0Uv6FV",
        "colab": {
          "base_uri": "https://localhost:8080/"
        },
        "outputId": "b9c6afdc-eba2-4d21-e559-c33ee0e77060"
      },
      "execution_count": 11,
      "outputs": [
        {
          "output_type": "stream",
          "name": "stdout",
          "text": [
            "(1, 108973, 1)\n",
            "1/1 [==============================] - 0s 42ms/step\n",
            "The predicted language is :  Romanian\n"
          ]
        }
      ]
    },
    {
      "cell_type": "code",
      "source": [
        "dataset_2 = pd.read_csv(\"Language Detection.csv\")\n",
        "print(dataset_2)\n"
      ],
      "metadata": {
        "id": "Ladw4RWaMioy",
        "colab": {
          "base_uri": "https://localhost:8080/"
        },
        "outputId": "2a332ab7-6f92-4c44-a305-13f0e17a2c5c"
      },
      "execution_count": 16,
      "outputs": [
        {
          "output_type": "stream",
          "name": "stdout",
          "text": [
            "                                                   Text  Language\n",
            "0     [102]​ Proyectos como Wikipedia, Susning.nu o ...   Spanish\n",
            "1     [104]​ Debido a su considerable popularidad, e...   Spanish\n",
            "2                       [105]​ Su popularidad fue poca.   Spanish\n",
            "3     [106]​ No obstante, ha sido criticada por ser ...   Spanish\n",
            "4     [107]​[108]​[109]​ Wikipedia tiene una serie d...   Spanish\n",
            "...                                                 ...       ...\n",
            "7497  clima este ecuatorială cu căderi abundente de ...  Romanian\n",
            "7498  clima în aravá este deșertică subtropicală can...  Romanian\n",
            "7499  clement din alexandria posibil să fi considera...  Romanian\n",
            "7500  clement alexandrinul c  dhr în lucrarea sa \"hy...  Romanian\n",
            "7501  clădirile actualei mănăstiri și renovarea bise...  Romanian\n",
            "\n",
            "[7502 rows x 2 columns]\n"
          ]
        }
      ]
    },
    {
      "cell_type": "code",
      "source": [
        "corpus_new = []\n",
        "\n",
        "for i in range(7502):\n",
        "    words_new = dataset_2[\"Text\"][i].split()\n",
        "    words_new = [lemmatizer.lemmatize(word) for word in words_new if word not in set(stopwords.words(dataset_2[\"Language\"][i].lower()))]\n",
        "    words_new = \" \".join(words_new)\n",
        "    corpus_new.append(words_new)"
      ],
      "metadata": {
        "id": "WVCRBtSqsIVn"
      },
      "execution_count": 17,
      "outputs": []
    },
    {
      "cell_type": "code",
      "source": [
        "Y_New = dataset_2.iloc[: , 1]\n",
        "\n",
        "encoder_new = LabelEncoder()\n",
        "Y_Encoded_New = encoder_new.fit_transform(Y_New)\n",
        "Y_New = keras.utils.to_categorical(Y_Encoded_New , num_classes = 10)\n",
        "\n",
        "X_New_Trans = vectorizer.transform(corpus_new)\n",
        "\n",
        "print(X_New_Trans.get_shape())\n",
        "print(encoder_new.classes_)"
      ],
      "metadata": {
        "id": "Tw1morPRN1pq",
        "colab": {
          "base_uri": "https://localhost:8080/"
        },
        "outputId": "437217e2-1f6f-47e1-a172-e0ba076aa88b"
      },
      "execution_count": 148,
      "outputs": [
        {
          "output_type": "stream",
          "name": "stdout",
          "text": [
            "(7502, 108973)\n",
            "['Dutch' 'English' 'French' 'Indonesian' 'Portuguese' 'Romanian' 'Russian'\n",
            " 'Spanish' 'Swedish' 'Turkish']\n"
          ]
        }
      ]
    },
    {
      "cell_type": "code",
      "source": [
        "predict_word_new = pd.DataFrame(X_New_Trans.toarray())\n",
        "sample_X = predict_word_new.sample(n = 2000 , random_state = 20)\n",
        "sample_Y = pd.DataFrame(Y_New).sample(n = 2000 , random_state = 20)\n",
        "\n",
        "Y_New = sample_Y.to_numpy()\n",
        "predict_word_new = sample_X.to_numpy()\n",
        "\n",
        "predict_word_new = predict_word_new.reshape((predict_word_new.shape[0] , predict_word_new.shape[1] , 1))\n",
        "print(predict_word_new.shape)"
      ],
      "metadata": {
        "id": "76bhBU_wPMzq",
        "colab": {
          "base_uri": "https://localhost:8080/"
        },
        "outputId": "848ef45c-cb80-4390-a745-7384b4e6478c"
      },
      "execution_count": 149,
      "outputs": [
        {
          "output_type": "stream",
          "name": "stdout",
          "text": [
            "(2000, 108973, 1)\n"
          ]
        }
      ]
    },
    {
      "cell_type": "code",
      "source": [
        "from numpy import ravel\n",
        "from sklearn.metrics import roc_curve , auc\n",
        "\n",
        "probs = models.predict(predict_word_new)\n",
        "\n",
        "fpr , tpr , threshold = roc_curve(Y_New.ravel() , probs.ravel())\n",
        "\n",
        "roc_auc = auc(fpr , tpr)"
      ],
      "metadata": {
        "id": "ND2ii9pCQErM",
        "colab": {
          "base_uri": "https://localhost:8080/"
        },
        "outputId": "04688889-f27b-40d6-c2b4-4a96fb71c433"
      },
      "execution_count": 150,
      "outputs": [
        {
          "output_type": "stream",
          "name": "stdout",
          "text": [
            "63/63 [==============================] - 2s 36ms/step\n"
          ]
        }
      ]
    },
    {
      "cell_type": "code",
      "source": [
        "probs_max = np.argmax(probs , axis = 1)\n",
        "preds_max = np.argmax(Y_New , axis = 1)\n",
        "\n",
        "print(\"AUC\" , roc_auc)\n",
        "print(\"Test Accuracy : \" , accuracy_score(preds_max , probs_max))"
      ],
      "metadata": {
        "colab": {
          "base_uri": "https://localhost:8080/"
        },
        "id": "gBBwSGDrson6",
        "outputId": "7322a600-724d-41ae-aa87-d7ccc0e84d84"
      },
      "execution_count": 151,
      "outputs": [
        {
          "output_type": "stream",
          "name": "stdout",
          "text": [
            "AUC 0.988118638888889\n",
            "Test Accuracy :  0.871\n"
          ]
        }
      ]
    },
    {
      "cell_type": "code",
      "source": [
        "plt.plot(fpr , tpr , color = \"blue\" , lw = 2 , label = f\"ROC Curve (area = {roc_auc : 0.2f})\")\n",
        "plt.plot([0 , 1] , [0 , 1] , \"g--\")\n",
        "\n",
        "plt.xlim([0 , 1])\n",
        "plt.ylim([0 , 1])\n",
        "\n",
        "plt.ylabel(\"TPR\")\n",
        "plt.xlabel(\"FPR\")\n",
        "plt.legend()\n",
        "\n",
        "plt.show()"
      ],
      "metadata": {
        "id": "1l2p4Eq9Regj",
        "colab": {
          "base_uri": "https://localhost:8080/",
          "height": 455
        },
        "outputId": "09acf096-1e11-4756-c106-0a2c32e20e36"
      },
      "execution_count": 152,
      "outputs": [
        {
          "output_type": "display_data",
          "data": {
            "text/plain": [
              "<Figure size 640x480 with 1 Axes>"
            ],
            "image/png": "[encoded data removed]"
          },
          "metadata": {}
        }
      ]
    }
  ]
}